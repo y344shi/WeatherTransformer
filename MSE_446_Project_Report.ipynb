{
  "cells": [
    {
      "cell_type": "markdown",
      "metadata": {
        "id": "NhxLspdIA4Uz"
      },
      "source": [
        "# MSE 446 Project Report\n",
        "Group 19  \n",
        "Lucy He, Alex Li, Jason Liu, Carrick Shi\n"
      ]
    },
    {
      "cell_type": "markdown",
      "metadata": {
        "id": "WI70oh9fA4U1"
      },
      "source": [
        "## Introduction and Problem Statement\n",
        "Recent catastrophic wildfires highlight the growing threat of natural disasters. In January 2025, Los\n",
        "Angeles faced unprecedented winter wildfires, causing 29 fatalities and destroying over 16,000 structures\n",
        "[1]. In 2023, Alberta had 36 severe fires burning 2.2 million hectares—far exceeding the five-year\n",
        "average of 169,556 hectares [2]. These events emphasize the urgent need for accurate wildfire prediction\n",
        "models to mitigate future risks.  \n",
        "  \n",
        "Our goal is to predict wildfire occurrence probabilities based on environmental factors such as\n",
        "temperature, humidity, wind speed, and weather conditions. According to Natural Resources Canada,\n",
        "Alberta has the highest Fire Weather Index (FWI) values in Canada due to frequent summer wildfires,\n",
        "large forested areas, and dry climate conditions. Given Alberta's high fire activity, we focus our wildfire\n",
        "prediction problem on this region to develop targeted mitigation strategies. We will compare Machine\n",
        "Learning models, including Logistic Regression, Decision Tree, Fully Connected Neural Network, and\n",
        "Continuous Transformer, to determine which provides the most accurate predictions. Using k-fold crossvalidation, we will evaluate these models based on fraction of correct predictions and root mean square\n",
        "(RMS) error metrics to assess their effectiveness for wildfire forecasting.\n",
        "\n",
        "<font color='red'>The time series (hourly prediction) nature of the problem may produce some problems, so do not be discouraged or encouraged. Just know that this exists.  \n",
        "Has weather data ever been used for fire prediction? Cite the studies if available. </font>"
      ]
    },
    {
      "cell_type": "markdown",
      "metadata": {
        "id": "HvcxJPg-A4U2"
      },
      "source": [
        "## Data Sources and Feature Selection"
      ]
    },
    {
      "cell_type": "markdown",
      "metadata": {
        "id": "u1-t2yfxA4U2"
      },
      "source": [
        "### Datasets"
      ]
    },
    {
      "cell_type": "markdown",
      "metadata": {
        "id": "3WXNoesiA4U2"
      },
      "source": [
        "#### Fire Data"
      ]
    },
    {
      "cell_type": "markdown",
      "metadata": {
        "id": "t-ul8kT9A4U2"
      },
      "source": [
        "#### Weather Data: Temperature, Humidity, Wind, Rainfall"
      ]
    },
    {
      "cell_type": "markdown",
      "metadata": {
        "id": "7va97m8VA4U3"
      },
      "source": [
        "#### Lightning Occurence"
      ]
    },
    {
      "cell_type": "markdown",
      "metadata": {
        "id": "iM-ZnXeTA4U3"
      },
      "source": [
        "### Data Preprocessing"
      ]
    },
    {
      "cell_type": "code",
      "execution_count": null,
      "metadata": {
        "id": "jOJsQ7CUA4U3"
      },
      "outputs": [],
      "source": [
        "hello"
      ]
    },
    {
      "cell_type": "markdown",
      "metadata": {
        "id": "oKrMWIXNA4U3"
      },
      "source": [
        "## Methodology"
      ]
    },
    {
      "cell_type": "markdown",
      "metadata": {
        "id": "TFxDpOdFA4U3"
      },
      "source": [
        "## Results & Analysis"
      ]
    },
    {
      "cell_type": "code",
      "execution_count": null,
      "metadata": {
        "id": "mh6kWsZBA4U4"
      },
      "outputs": [],
      "source": []
    },
    {
      "cell_type": "markdown",
      "metadata": {
        "id": "YojwHdyLA4U4"
      },
      "source": [
        "## Conclusion & Future Work"
      ]
    },
    {
      "cell_type": "markdown",
      "metadata": {
        "id": "Tvj9ehf2A4U4"
      },
      "source": [
        "## References"
      ]
    }
  ],
  "metadata": {
    "kernelspec": {
      "display_name": "Python 3",
      "language": "python",
      "name": "python3"
    },
    "language_info": {
      "name": "python",
      "version": "3.10.11"
    },
    "colab": {
      "provenance": []
    }
  },
  "nbformat": 4,
  "nbformat_minor": 0
}