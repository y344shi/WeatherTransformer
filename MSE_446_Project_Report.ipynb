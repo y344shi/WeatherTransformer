{
  "cells": [
    {
      "cell_type": "markdown",
      "metadata": {
        "id": "NiiYc0X-Ax0E"
      },
      "source": [
        "# MSE 446 Project Report\n",
        "Group 19  \n",
        "Lucy He, Alex Li, Jason Liu, Carrick Shi\n"
      ]
    },
    {
      "cell_type": "markdown",
      "metadata": {
        "id": "okFK28NcAx0G"
      },
      "source": [
        "## Introduction and Problem Statement\n",
        "Recent catastrophic wildfires highlight the growing threat of natural disasters. In January 2025, Los\n",
        "Angeles faced unprecedented winter wildfires, causing 29 fatalities and destroying over 16,000 structures\n",
        "[1]. In 2023, Alberta had 36 severe fires burning 2.2 million hectares—far exceeding the five-year\n",
        "average of 169,556 hectares [2]. These events emphasize the urgent need for accurate wildfire prediction\n",
        "models to mitigate future risks.  \n",
        "  \n",
        "Our goal is to predict wildfire occurrence probabilities based on environmental factors such as\n",
        "temperature, humidity, wind speed, and weather conditions. According to Natural Resources Canada,\n",
        "Alberta has the highest Fire Weather Index (FWI) values in Canada due to frequent summer wildfires,\n",
        "large forested areas, and dry climate conditions. Given Alberta's high fire activity, we focus our wildfire\n",
        "prediction problem on this region to develop targeted mitigation strategies. We will compare Machine\n",
        "Learning models, including Logistic Regression, Decision Tree, Fully Connected Neural Network, and\n",
        "Continuous Transformer, to determine which provides the most accurate predictions. Using k-fold crossvalidation, we will evaluate these models based on fraction of correct predictions and root mean square\n",
        "(RMS) error metrics to assess their effectiveness for wildfire forecasting.\n",
        "\n",
        "<font color='red'>The time series (hourly prediction) nature of the problem may produce some problems, so do not be discouraged or encouraged. Just know that this exists.  \n",
        "Has weather data ever been used for fire prediction? Cite the studies if available. </font>"
      ]
    },
    {
      "cell_type": "markdown",
      "metadata": {
        "id": "U1YYnhZQAx0H"
      },
      "source": [
        "## Data Sources and Feature Selection"
      ]
    },
    {
      "cell_type": "markdown",
      "metadata": {
        "id": "AIm288F3Ax0H"
      },
      "source": [
        "### Datasets\n",
        "To predict fire, we use .... data (reference why) Explain why we use these data, how they relate to each other  \n",
        "<font color='red'>How are the various datasets you're using related to each other? Clarify this. </font>"
      ]
    },
    {
      "cell_type": "markdown",
      "metadata": {
        "id": "qOBhcfQUAx0H"
      },
      "source": [
        "#### Fire Data"
      ]
    },
    {
      "cell_type": "markdown",
      "metadata": {
        "id": "5KK7NnflAx0H"
      },
      "source": [
        "#### Weather Data: Temperature, Humidity, Wind, Rainfall"
      ]
    },
    {
      "cell_type": "markdown",
      "metadata": {
        "id": "dCgXg4vuAx0H"
      },
      "source": [
        "#### Lightning Occurence"
      ]
    },
    {
      "cell_type": "markdown",
      "metadata": {
        "id": "OAzZUGnoAx0H"
      },
      "source": [
        "### Data Preprocessing"
      ]
    },
    {
      "cell_type": "code",
      "execution_count": null,
      "metadata": {
        "id": "fNRo2mGBAx0I"
      },
      "outputs": [],
      "source": []
    },
    {
      "cell_type": "markdown",
      "metadata": {
        "id": "D1bvBkEYAx0I"
      },
      "source": [
        "## Methodology\n",
        "<font color='red'>You should focus less on introducing the algorithms and more introducing your problem, data and how/why you use certain algorithms. </font>"
      ]
    },
    {
      "cell_type": "markdown",
      "metadata": {},
      "source": [
        "### 1. Logistic Regression"
      ]
    },
    {
      "cell_type": "code",
      "execution_count": null,
      "metadata": {},
      "outputs": [],
      "source": []
    },
    {
      "cell_type": "markdown",
      "metadata": {},
      "source": [
        "### 2. Decision Tree Classifiers"
      ]
    },
    {
      "cell_type": "code",
      "execution_count": null,
      "metadata": {},
      "outputs": [],
      "source": []
    },
    {
      "cell_type": "markdown",
      "metadata": {},
      "source": [
        "### 3. Fully Connected Neural Network (FCNN)"
      ]
    },
    {
      "cell_type": "code",
      "execution_count": null,
      "metadata": {},
      "outputs": [],
      "source": []
    },
    {
      "cell_type": "markdown",
      "metadata": {
        "id": "L2PuggF0Ax0I"
      },
      "source": [
        "## Results & Analysis"
      ]
    },
    {
      "cell_type": "code",
      "execution_count": null,
      "metadata": {
        "id": "lvGGoCcaAx0I"
      },
      "outputs": [],
      "source": []
    },
    {
      "cell_type": "markdown",
      "metadata": {
        "id": "JTOFflIqAx0I"
      },
      "source": [
        "## Conclusion & Future Work"
      ]
    },
    {
      "cell_type": "markdown",
      "metadata": {
        "id": "yt2EvoJRAx0I"
      },
      "source": [
        "## References"
      ]
    }
  ],
  "metadata": {
    "colab": {
      "provenance": []
    },
    "kernelspec": {
      "display_name": "Python 3",
      "language": "python",
      "name": "python3"
    },
    "language_info": {
      "name": "python",
      "version": "3.10.11"
    }
  },
  "nbformat": 4,
  "nbformat_minor": 0
}
