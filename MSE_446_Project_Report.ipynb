{
  "cells": [
    {
      "cell_type": "markdown",
      "metadata": {
        "id": "NiiYc0X-Ax0E"
      },
      "source": [
        "# MSE 446 Project Report\n",
        "Group 19  \n",
        "Lucy He, Alex Li, Jason Liu, Carrick Shi\n"
      ]
    },
    {
      "cell_type": "markdown",
      "metadata": {
        "id": "okFK28NcAx0G"
      },
      "source": [
        "## Introduction and Problem Statement\n",
        "Recent catastrophic wildfires highlight the growing threat of natural disasters. In July 2018, a wildfire ignited in Greece and rapidly spread across the region [1]. As of September 2020, wildfires in California had burned over 1.5 million hectares, affecting approximately 3.7% of the state's total area [2]. In January 2025, Los Angeles faced unprecedented winter wildfires, causing 29 fatalities and destroying over 16,000 structures [1]. In 2023, Alberta had 36 severe fires burning 2.2 million hectares—far exceeding the five-year average of 169,556 hectares [2]. These events emphasize the urgent need for accurate wildfire prediction models to mitigate future risks. \n",
        "  \n",
        "Wildfires have significant impacts on social structures, disrupt wildlife activities, and pose substantial economic challenges to cities. Consequently, the development of accurate and effective wildfire prediction methods is essential for mitigating these adverse effects. The goal of this project is to predict wildfire occurrence probabilities based on environmental factors such as temperature, humidity, wind speed, and weather conditions. According to Natural Resources Canada, Alberta has the highest Fire Weather Index (FWI) values in Canada due to frequent summer wildfires, large forested areas, and dry climate conditions. Given Alberta's high fire activity, we focus our wildfire prediction problem on this region to develop targeted mitigation strategies. In this project, three Machine Learning models are proposed, developed, and evaluated, including Logistic Regression, Decision Tree, and Fully Connected Neural Network, aimed at predicting wildfire occurrences and facilitating early intervention to prevent their spread. Using k-fold cross-validation, These models will be evaluated based on a fraction of correct predictions and root mean square (RMS) error metrics to assess their effectiveness for wildfire forecasting. \n",
        "\n",
        "#### Research on Wildfire Prediction\n",
        "\n",
        "There has been ongoing research about wildfire predictions, and we observed a lot of interesting work, for example, we noticed that Sanabria et al. (2013)’s interpolation-based study of fire danger indices across Australia. \n",
        "\n",
        "Both our approach and the work by Sanabria et al. (2013) aim to improve the understanding of wildfire risk through historical weather conditions. Essentially, both approaches used data such as temperature, humidity, wind speed, rainfall, and vegetation conditions to assess fire danger at various locations at some time in the year. This foundation highlights a shared objective of extracting environmental patterns as fire risk indicators\n",
        "\n",
        "Sanabria et al. focused on predicting the spatial distribution of McArthur’s Forest Fire Danger Index (FFDI) return periods across Australia using data from weather stations. Similarly, we used a comparable set of weather features, but instead applied them to predict fire occurrence across Alberta, Canada. \n",
        "also, Sanabria et al. implemented interpolation and statistical methods such as Inverse Distance Weighting (IDW), Ordinary Kriging (OK), and Random Forest (RF) to predict fire index. while our study used supervised machine learning models, including logistic regression, decision trees, and fully connected neural networks. Despite the methodological differences, both studies leveraged traditional and modern data-driven techniques to capture spatial fire risk patterns.\n"
      ]
    },
    {
      "cell_type": "markdown",
      "metadata": {
        "id": "U1YYnhZQAx0H"
      },
      "source": [
        "## Data Sources and Feature Selection"
      ]
    },
    {
      "cell_type": "markdown",
      "metadata": {
        "id": "AIm288F3Ax0H"
      },
      "source": [
        "### Datasets\n",
        "In machine learning, data is the most critical element that drives the model's performance. The quality, quantity, and structure of data often determine the upper bound of a model's effectiveness, making data processing a critical step in any ML method. Also, proper preprocessing, including cleaning and formatting, ensures that models can extract meaningful patterns while minimizing noise created by low-quality data. As such, we believe that proper data handling is just as essential as selecting the right algorithms or architectures."
      ]
    },
    {
      "cell_type": "markdown",
      "metadata": {
        "id": "qOBhcfQUAx0H"
      },
      "source": [
        "#### Fire Data\n",
        "\n",
        "The first data source comes from the historical wildfire data from the Government of Alberta, which is available from the Government of Alberta. This dataset contains over 26000 records of wildfires between 2006 and 2024, each entry includes the wildfire’s time of occurrence, geographic location in terms of latitude and longitude, and additional information about the fire, such as cause of fire, fuel type (vegetation type in that area), and local weather conditions at the time of fire. Next, we need to process the raw dataset into a format we can train our models with. To incorporate negative (non-fire) examples for training our model, we use the latitude and longitude coordinates from the wildfire dataset as reference points. We round these coordinates to one decimal place and group fires that occurred within the same rounded location. For each such location, we randomly generate additional timestamps spanning 2006 to 2024 that are not associated with recorded wildfires, such that in total, each location will have at least 10 entries of fire and non-fire date times, and these synthesized entries represent non-fire conditions. We assume that the location’s fuel type doesn’t significantly change over time, and then assign that fuel type to the generated non-fire data entries. These new data entries will be uniquely identified by their longitude, latitude, and timestamp. From this dataset, we extract the fuel type as a static environmental feature, and define a binary classifier label indicating fire occurrence (Fire = True/False). We do not use the weather data provided in this dataset, as it lacks coverage for non-fire events and may introduce inconsistency. Instead, we source weather information separately to maintain uniformity across both fire and non-fire instances (see Weather Dataset section).\n"
      ]
    },
    {
      "cell_type": "markdown",
      "metadata": {
        "id": "5KK7NnflAx0H"
      },
      "source": [
        "#### Weather Data: Temperature, Humidity, Wind, Rainfall\n",
        "\n",
        "The second data source comes from over 600 weather stations located all across Alberta, from which we extracted daily weather data from each station between 2006-2024. Inside the dataset, there are a total of 31 weather parameters, but we’re only interested in some of the important ones which we believe are closely related to wildfires: \n",
        "- Max/Min/Mean Temperature (°C): High temperatures dry out vegetation, increasing flammability.\n",
        "- Total Precip (mm): Low rainfall increases the dryness of plants, which also increases fire probability\n",
        "- Speed of Max Gust (km/h, 10s deg): Strong winds accelerate fire spread\n",
        "- Spatial feature (Longitude, Latitude): Some regions are more fire-prone due to different topography at different locations (ex., wildfires are less likely to occur in places with less vegetation)\n",
        "\n",
        "For each fire and non-fire entry in the previous dataset, we map the location and timestamp to the nearest available weather station by first rounding the timestamp in the wildfire dataset to the nearest day. From the subset of stations that contain valid data for that day, we identify the closest station geographically to provide the associated weather data.\n",
        "Due to inconsistencies in data availability, such as missing weather conditions in some of the stations from 2006-2024, we need to filter the dataset to extract usable entries. After filtering, we obtain #### data points in total, of which #### correspond to true wildfire events. \n",
        "We also used another source of weather data: OpenWeather API. This API allows us to retrieve historical hourly weather data for specific latitudes, longitudes, and timestamp combinations, accurate to the hour, to obtain consistent and detailed weather information for both wildfire and non-wildfire events at designated locations. But since this API only allows us to retrieve weather data in 2024, we would need to slice our wildfires and weather station datasets for 2024 only.\n",
        "\n",
        "The two weather data sources used in our project (weather station data and OpenWeather API) each offer distinct advantages and limitations, leading to a trade-off between spatial accuracy and temporal coverage. The OpenWeather API offers highly localized and consistent weather features across both fire and non-fire cases, however, its limitation is that it only provides data for the year 2024, which limits the size and diversity of our training dataset, since measuring wildfires in a single year is subject to bias due to unique weather patterns.\n",
        "\n",
        "In contrast, data from the Government of Alberta’s weather station spans a much longer period (2006–2024), allowing us to build a larger and more temporally diverse dataset. However, this way we would need to sacrifice spatial resolution, as it only records weather at fixed station locations. Based on a histogram of nearest-station distances, we selected a 50 km maximum distance threshold to limit location mismatch, but it still introduces an unavoidable approximation. Another limiting factor of using this dataset is that there are missing values and important weather parameters in weather stations, which affect the overall data quality.\n",
        "\n"
      ]
    },
    {
      "cell_type": "markdown",
      "metadata": {
        "id": "dCgXg4vuAx0H"
      },
      "source": [
        "#### Lightning Occurence\n",
        "\n",
        "source: Government of Canada"
      ]
    },
    {
      "cell_type": "markdown",
      "metadata": {
        "id": "OAzZUGnoAx0H"
      },
      "source": [
        "### Data Preprocessing"
      ]
    },
    {
      "cell_type": "code",
      "execution_count": null,
      "metadata": {
        "id": "fNRo2mGBAx0I"
      },
      "outputs": [],
      "source": []
    },
    {
      "cell_type": "markdown",
      "metadata": {
        "id": "D1bvBkEYAx0I"
      },
      "source": [
        "## Methodology\n",
        "<font color='red'>You should focus less on introducing the algorithms and more introducing your problem, data and how/why you use certain algorithms. </font>"
      ]
    },
    {
      "cell_type": "markdown",
      "metadata": {},
      "source": [
        "### 1. Logistic Regression\n",
        "\n",
        "This project chose to use Logistic Regression because of its effectiveness in binary classification tasks. In the project, the model will distinguish between fire and non-fire conditions based on environmental features such as temperature, humidity, wind speed, and weather conditions.\n",
        "Logistic regression is suitable for predicting wildfires because it is interpretable, efficient and predictive. The first advantage is the ability to analyze how each feature affects the probability of a wildfire occurring through the learned data. This interpretability helps understand which environmental factors have the greatest impact on fire risk. In addition, logistic regression is computationally efficient, which allows it to handle datasets of various specifications. A final advantage is its ability to generate estimated probabilities, not just binary classifications, which will visualize the results. In the end, logistic regression is less prone to overfitting than more complex models. This allows the model to make relatively accurate predictions not only on training sets, but also on real-world data.\n",
        "The implementation of the logistic regression model followed a structured set of methods that would ensure its effectiveness in predicting wildfire. First, wildfire occurrence data is collected and preprocessed to ensure the dataset includes essential environmental factors for accurate fire risk assessment. After data preparation, the dataset is divided into an 80% training set and a 20% test set. This division of the data allows the model to learn from the majority of the data, while keeping a separate test set for evaluating the model's performance. ​\n",
        "After data preparation, model training was started. The logistic regression model was initialized and the maximum number of iterations was set to 1000 to ensure proper convergence during optimization. The model was then trained using the training dataset to allow it to learn the relationship between input environmental factors and wildfire occurrence. Once training was completed, multiple evaluation metrics were used to measure the effectiveness of the model.\n",
        "####  How to Evaluation\n",
        "The construction of the logistic regression model forms a solid benchmark for wildfire prediction. Although the model is highly interpretable and computationally efficient, it still has limitations in capturing complex nonlinear relationships in the dataset. Therefore, future research will explore more advanced models, such as Decision Trees and Neural Networks, to further improve prediction accuracy and enhance the effectiveness of wildfire prevention strategies.\n"
      ]
    },
    {
      "cell_type": "code",
      "execution_count": null,
      "metadata": {},
      "outputs": [],
      "source": []
    },
    {
      "cell_type": "markdown",
      "metadata": {},
      "source": [
        "### 2. Decision Tree Classifiers\n",
        "\n",
        "Decision tree models were chosen as the second model because of their ability to capture nonlinear relationships and provide a rule-based classification structure. Decision trees will model interactions between variables, this makes them suitable for environmental datasets where interactions are probably not direct.\n",
        "Decision trees are highly interpretable because they represent decisions in a tree graph of rules, and they are easy to follow. Each internal node of the tree corresponds to a type of decision based on features, and each leaf node corresponds to the class label of the prediction. This feature allows stakeholders to easily understand how to make predictions. In addition, decision trees are able to handle missing values, which is advantageous when dealing with wildfire data that may be noisy.\n",
        "The implementation of the decision tree model is based on the DecisionTreeClassifier in the sklearn library.The minimum number of split samples is set to 100 when the model is initialized to prevent overfitting phenomenon from occurring and to ensure that the amount of data is large enough for each split. During the model construction, environmental factors were selected as input features, including temperature, humidity, wind speed and weather conditions. These features were used to train the model to learn its relationship with wildfire occurrence.\n",
        "#### How to Evaluation\n",
        "In terms of model evaluation, the decision tree structure obtained from training is displayed in the form of graphs, which makes the prediction logic of the model easier to understand and interpret. In addition, the model's classification effectiveness was comprehensively evaluated by generating confusion matrices, classification reports, and accuracy metrics. In conclusion, the decision tree model provides an alternative perspective on the wildfire prediction problem, especially in application scenarios that require strong interpretability and capture nonlinear relationships.\n"
      ]
    },
    {
      "cell_type": "code",
      "execution_count": null,
      "metadata": {},
      "outputs": [],
      "source": []
    },
    {
      "cell_type": "markdown",
      "metadata": {},
      "source": [
        "### 3. Fully Connected Neural Network (FCNN)\n",
        "\n",
        "\n"
      ]
    },
    {
      "cell_type": "code",
      "execution_count": null,
      "metadata": {},
      "outputs": [],
      "source": []
    },
    {
      "cell_type": "markdown",
      "metadata": {
        "id": "L2PuggF0Ax0I"
      },
      "source": [
        "## Results & Analysis"
      ]
    },
    {
      "cell_type": "code",
      "execution_count": null,
      "metadata": {
        "id": "lvGGoCcaAx0I"
      },
      "outputs": [],
      "source": []
    },
    {
      "cell_type": "markdown",
      "metadata": {
        "id": "JTOFflIqAx0I"
      },
      "source": [
        "## Conclusion & Future Work"
      ]
    },
    {
      "cell_type": "markdown",
      "metadata": {
        "id": "yt2EvoJRAx0I"
      },
      "source": [
        "## References\n",
        "\n",
        "[1] Lagouvardos, K., Kotroni, V., Giannaros, T. M. & Dafis, S. Meteorological Conditions Conducive to the Rapid Spread of the Deadly Wildfire in Eastern Attica, Greece. Bull. Am. Meteorological Soc. 100, 2137–2145 (2019). Publisher: American Meteorological Society Section: Bulletin of the American Meteorological Society.\n",
        "\n",
        "[2] Higuera, P. E. & Abatzoglou, J. T. Record-setting climate enabled the extraordinary 2020 fire season in the western United States. Glob. Change Biol. 27, 1–2 (2021).\n"
      ]
    }
  ],
  "metadata": {
    "colab": {
      "provenance": []
    },
    "kernelspec": {
      "display_name": "Python 3",
      "language": "python",
      "name": "python3"
    },
    "language_info": {
      "name": "python",
      "version": "3.10.11"
    }
  },
  "nbformat": 4,
  "nbformat_minor": 0
}
